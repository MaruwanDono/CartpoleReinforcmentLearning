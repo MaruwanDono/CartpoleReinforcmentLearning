{
  "cells": [
    {
      "cell_type": "markdown",
      "metadata": {
        "id": "XOa11wT4uS7Y"
      },
      "source": [
        "# REINFORCE in PyTorch\n",
        "\n",
        "Just like we did before for Q-learning, this time we'll design a PyTorch network to learn `CartPole-v0` via policy gradient (REINFORCE).\n",
        "\n",
        "Most of the code in this notebook is taken from approximate Q-learning, so you'll find it more or less familiar and even simpler."
      ]
    },
    {
      "cell_type": "code",
      "execution_count": null,
      "metadata": {
        "id": "npJsquI0uS7a"
      },
      "outputs": [],
      "source": [
        "import sys, os\n",
        "if 'google.colab' in sys.modules and not os.path.exists('.setup_complete'):\n",
        "    !wget -q https://raw.githubusercontent.com/yandexdataschool/Practical_RL/master/setup_colab.sh -O- | bash\n",
        "    !pip install -q gymnasium\n",
        "    !pip install moviepy\n",
        "    !apt install ffmpeg\n",
        "    !pip install imageio-ffmpeg\n",
        "    !touch .setup_complete\n",
        "\n",
        "# This code creates a virtual display to draw game images on.\n",
        "# It will have no effect if your machine has a monitor.\n",
        "if type(os.environ.get(\"DISPLAY\")) is not str or len(os.environ.get(\"DISPLAY\")) == 0:\n",
        "    !bash ../xvfb start\n",
        "    os.environ['DISPLAY'] = ':1'"
      ]
    },
    {
      "cell_type": "code",
      "execution_count": null,
      "metadata": {
        "id": "_LSereWuuS7b"
      },
      "outputs": [],
      "source": [
        "import gymnasium as gym\n",
        "import numpy as np\n",
        "import matplotlib.pyplot as plt\n",
        "%matplotlib inline"
      ]
    },
    {
      "cell_type": "code",
      "execution_count": null,
      "metadata": {
        "id": "N9Bif1NKuS7b"
      },
      "outputs": [],
      "source": [
        "# also you need to install ffmpeg if not installed\n",
        "# for MacOS: ! brew install ffmpeg"
      ]
    },
    {
      "cell_type": "markdown",
      "metadata": {
        "id": "Tc2wl-AVuS7c"
      },
      "source": [
        "A caveat: with some versions of `pyglet`, the following cell may crash with `NameError: name 'base' is not defined`. The corresponding bug report is [here](https://github.com/pyglet/pyglet/issues/134). If you see this error, try restarting the kernel."
      ]
    },
    {
      "cell_type": "code",
      "execution_count": null,
      "metadata": {
        "colab": {
          "base_uri": "https://localhost:8080/",
          "height": 261
        },
        "id": "22ag40oPuS7c",
        "outputId": "2660ff07-5b92-442a-d926-cdb70ce4c7c5"
      },
      "outputs": [
        {
          "output_type": "execute_result",
          "data": {
            "text/plain": [
              "<matplotlib.image.AxesImage at 0x7d8379dc3550>"
            ]
          },
          "metadata": {},
          "execution_count": 142
        },
        {
          "output_type": "display_data",
          "data": {
            "text/plain": [
              "<Figure size 640x480 with 1 Axes>"
            ],
            "image/png": "[encoded data removed]"
          },
          "metadata": {}
        }
      ],
      "source": [
        "env = gym.make(\"CartPole-v1\", render_mode=\"rgb_array\")\n",
        "\n",
        "# gym compatibility: unwrap TimeLimit\n",
        "if hasattr(env, '_max_episode_steps'):\n",
        "    env = env.env\n",
        "\n",
        "env.reset()\n",
        "n_actions = env.action_space.n\n",
        "state_dim = env.observation_space.shape\n",
        "\n",
        "plt.imshow(env.render())"
      ]
    },
    {
      "cell_type": "markdown",
      "metadata": {
        "id": "tEw8n5AZuS7d"
      },
      "source": [
        "# Building the network for REINFORCE"
      ]
    },
    {
      "cell_type": "markdown",
      "metadata": {
        "id": "jMt1Ri84uS7d"
      },
      "source": [
        "For REINFORCE algorithm, we'll need a model that predicts action probabilities given states.\n",
        "\n",
        "For numerical stability, please __do not include the softmax layer into your network architecture__.\n",
        "We'll use softmax or log-softmax where appropriate."
      ]
    },
    {
      "cell_type": "code",
      "execution_count": null,
      "metadata": {
        "colab": {
          "base_uri": "https://localhost:8080/"
        },
        "id": "7BxC8voNaGIT",
        "outputId": "d4cb2238-56e3-452e-a302-5dd95703a4a2"
      },
      "outputs": [
        {
          "output_type": "execute_result",
          "data": {
            "text/plain": [
              "2"
            ]
          },
          "metadata": {},
          "execution_count": 143
        }
      ],
      "source": [
        "n_actions"
      ]
    },
    {
      "cell_type": "code",
      "execution_count": null,
      "metadata": {
        "id": "ZTfD6gvxuS7e"
      },
      "outputs": [],
      "source": [
        "import torch\n",
        "import torch.nn as nn\n",
        "import torch.nn.functional as F\n",
        "device = 'cuda' if torch.cuda.is_available() else 'cpu'"
      ]
    },
    {
      "cell_type": "code",
      "execution_count": null,
      "metadata": {
        "id": "CYlg2LxCuS7f"
      },
      "outputs": [],
      "source": [
        "# Build a simple neural network that predicts policy logits.\n",
        "# Keep it simple: CartPole isn't worth deep architectures.\n",
        "class PolicyNetwork(nn.Module):\n",
        "    def __init__(self, input_size=state_dim[0], output_size=n_actions):\n",
        "        super(PolicyNetwork, self).__init__()\n",
        "        self.model = nn.Sequential(\n",
        "            nn.Linear(input_size, 1024),\n",
        "            nn.ReLU(),\n",
        "            nn.Linear(1024, 256),\n",
        "            nn.ReLU(),\n",
        "            nn.Linear(256, 128),\n",
        "            nn.ReLU(),\n",
        "            nn.Linear(128, output_size)\n",
        "        )\n",
        "\n",
        "    def forward(self, x):\n",
        "        return self.model(x)"
      ]
    },
    {
      "cell_type": "code",
      "execution_count": null,
      "metadata": {
        "id": "AUfirRaJVLAr"
      },
      "outputs": [],
      "source": [
        "model = PolicyNetwork()"
      ]
    },
    {
      "cell_type": "markdown",
      "metadata": {
        "id": "hUBpIB2CuS7f"
      },
      "source": [
        "#### Predict function"
      ]
    },
    {
      "cell_type": "markdown",
      "metadata": {
        "id": "thDDXxKSuS7g"
      },
      "source": [
        "Note: output value of this function is not a torch tensor, it's a numpy array.\n",
        "So, here gradient calculation is not needed.\n",
        "<br>\n",
        "Use [no_grad](https://pytorch.org/docs/stable/autograd.html#torch.autograd.no_grad)\n",
        "to suppress gradient calculation.\n",
        "<br>\n",
        "Also, `.detach()` (or legacy `.data` property) can be used instead, but there is a difference:\n",
        "<br>\n",
        "With `.detach()` computational graph is built but then disconnected from a particular tensor,\n",
        "so `.detach()` should be used if that graph is needed for backprop via some other (not detached) tensor;\n",
        "<br>\n",
        "In contrast, no graph is built by any operation in `no_grad()` context, thus it's preferable here."
      ]
    },
    {
      "cell_type": "code",
      "execution_count": null,
      "metadata": {
        "id": "n4Gl7s0juS7g"
      },
      "outputs": [],
      "source": [
        "def predict_probs(states):\n",
        "    \"\"\"\n",
        "    Predict action probabilities given states.\n",
        "    :param states: numpy array of shape [batch, state_shape]\n",
        "    :returns: numpy array of shape [batch, n_actions]\n",
        "    \"\"\"\n",
        "    # convert states, compute logits, use softmax to get probability\n",
        "    #<YOUR CODE>\n",
        "    with torch.no_grad():\n",
        "        logits = model(torch.tensor(states))\n",
        "        probabilities = torch.softmax(logits, dim=-1)\n",
        "    return probabilities.numpy()"
      ]
    },
    {
      "cell_type": "code",
      "execution_count": null,
      "metadata": {
        "id": "fUjyFj8FuS7g"
      },
      "outputs": [],
      "source": [
        "test_states = np.array([env.reset()[0] for _ in range(5)])\n",
        "test_probas = predict_probs(test_states)\n",
        "assert isinstance(test_probas, np.ndarray), \\\n",
        "    \"you must return np array and not %s\" % type(test_probas)\n",
        "assert tuple(test_probas.shape) == (test_states.shape[0], env.action_space.n), \\\n",
        "    \"wrong output shape: %s\" % np.shape(test_probas)\n",
        "assert np.allclose(np.sum(test_probas, axis=1), 1), \"probabilities do not sum to 1\""
      ]
    },
    {
      "cell_type": "markdown",
      "metadata": {
        "id": "tNlFlrT2uS7h"
      },
      "source": [
        "### Play the game\n",
        "\n",
        "We can now use our newly built agent to play the game."
      ]
    },
    {
      "cell_type": "code",
      "execution_count": null,
      "metadata": {
        "id": "3CRiG8XIuS7h"
      },
      "outputs": [],
      "source": [
        "def generate_session(env, t_max=1000):\n",
        "    \"\"\"\n",
        "    Play a full session with REINFORCE agent.\n",
        "    Returns sequences of states, actions, and rewards.\n",
        "    \"\"\"\n",
        "    # arrays to record session\n",
        "    states, actions, rewards = [], [], []\n",
        "\n",
        "    s = env.reset()[0]\n",
        "\n",
        "    for t in range(t_max):\n",
        "        # action probabilities array aka pi(a|s)\n",
        "        action_probs = predict_probs(np.array([s]))[0]\n",
        "\n",
        "        # Sample action with given probabilities.\n",
        "        a = np.argmax(action_probs)\n",
        "\n",
        "        new_s, r, terminated, truncated, info = env.step(a)\n",
        "\n",
        "        # record session history to train later\n",
        "        states.append(s)\n",
        "        actions.append(a)\n",
        "        rewards.append(r)\n",
        "\n",
        "        s = new_s\n",
        "        if terminated or truncated:\n",
        "            break\n",
        "\n",
        "    return states, actions, rewards"
      ]
    },
    {
      "cell_type": "code",
      "execution_count": null,
      "metadata": {
        "id": "0x6EnB3EuS7h"
      },
      "outputs": [],
      "source": [
        "# test it\n",
        "states, actions, rewards = generate_session(env)"
      ]
    },
    {
      "cell_type": "markdown",
      "metadata": {
        "id": "XY84U1UTuS7i"
      },
      "source": [
        "### Computing cumulative rewards\n",
        "\n",
        "$$\n",
        "\\begin{align*}\n",
        "G_t &= r_t + \\gamma r_{t + 1} + \\gamma^2 r_{t + 2} + \\ldots \\\\\n",
        "&= \\sum_{i = t}^T \\gamma^{i - t} r_i \\\\\n",
        "&= r_t + \\gamma * G_{t + 1}\n",
        "\\end{align*}\n",
        "$$"
      ]
    },
    {
      "cell_type": "code",
      "execution_count": null,
      "metadata": {
        "id": "xPmQ3lBxuS7i"
      },
      "outputs": [],
      "source": [
        "def get_cumulative_rewards(rewards,  # rewards at each step\n",
        "                           gamma=0.99  # discount for reward\n",
        "                           ):\n",
        "    \"\"\"\n",
        "    Take a list of immediate rewards r(s,a) for the whole session\n",
        "    and compute cumulative returns (a.k.a. G(s,a) in Sutton '16).\n",
        "\n",
        "    G_t = r_t + gamma*r_{t+1} + gamma^2*r_{t+2} + ...\n",
        "\n",
        "    A simple way to compute cumulative rewards is to iterate from the last\n",
        "    to the first timestep and compute G_t = r_t + gamma*G_{t+1} recurrently\n",
        "\n",
        "    You must return an array/list of cumulative rewards with as many elements as in the initial rewards.\n",
        "    \"\"\"\n",
        "    N = len(rewards)\n",
        "    cumulative_rewards = np.zeros_like(rewards, dtype=float)\n",
        "    cumulative_rewards[-1] = rewards[-1]\n",
        "    for t in range(2, N+1):\n",
        "        cumulative_rewards[-t] = rewards[-t] + gamma*cumulative_rewards[-t+1]\n",
        "    return cumulative_rewards"
      ]
    },
    {
      "cell_type": "code",
      "execution_count": null,
      "metadata": {
        "colab": {
          "base_uri": "https://localhost:8080/"
        },
        "id": "T8lOJUmLuS7j",
        "outputId": "323fa4cc-583e-4d2e-aedc-1153606f7614"
      },
      "outputs": [
        {
          "output_type": "stream",
          "name": "stdout",
          "text": [
            "looks good!\n"
          ]
        }
      ],
      "source": [
        "get_cumulative_rewards(rewards)\n",
        "assert len(get_cumulative_rewards(list(range(100)))) == 100\n",
        "assert np.allclose(\n",
        "    get_cumulative_rewards([0, 0, 1, 0, 0, 1, 0], gamma=0.9),\n",
        "    [1.40049, 1.5561, 1.729, 0.81, 0.9, 1.0, 0.0])\n",
        "assert np.allclose(\n",
        "    get_cumulative_rewards([0, 0, 1, -2, 3, -4, 0], gamma=0.5),\n",
        "    [0.0625, 0.125, 0.25, -1.5, 1.0, -4.0, 0.0])\n",
        "assert np.allclose(\n",
        "    get_cumulative_rewards([0, 0, 1, 2, 3, 4, 0], gamma=0),\n",
        "    [0, 0, 1, 2, 3, 4, 0])\n",
        "print(\"looks good!\")"
      ]
    },
    {
      "cell_type": "markdown",
      "metadata": {
        "id": "ZPqt0cYeuS7j"
      },
      "source": [
        "#### Loss function and updates\n",
        "\n",
        "We now need to define objective and update over policy gradient.\n",
        "\n",
        "Our objective function is\n",
        "\n",
        "$$ J \\approx  { 1 \\over N } \\sum_{s_i,a_i} G(s_i,a_i) $$\n",
        "\n",
        "REINFORCE defines a way to compute the gradient of the expected reward with respect to policy parameters. The formula is as follows:\n",
        "\n",
        "$$ \\nabla_\\theta \\hat J(\\theta) \\approx { 1 \\over N } \\sum_{s_i, a_i} \\nabla_\\theta \\log \\pi_\\theta (a_i \\mid s_i) \\cdot G_t(s_i, a_i) $$\n",
        "\n",
        "We can abuse PyTorch's capabilities for automatic differentiation by defining our objective function as follows:\n",
        "\n",
        "$$ \\hat J(\\theta) \\approx { 1 \\over N } \\sum_{s_i, a_i} \\log \\pi_\\theta (a_i \\mid s_i) \\cdot G_t(s_i, a_i) $$\n",
        "\n",
        "When you compute the gradient of that function with respect to network weights $\\theta$, it will become exactly the policy gradient."
      ]
    },
    {
      "cell_type": "code",
      "execution_count": null,
      "metadata": {
        "id": "0kXeAtU9uS7j"
      },
      "outputs": [],
      "source": [
        "# Your code: define optimizers\n",
        "optimizer = torch.optim.Adam(model.parameters(), 1e-3)\n",
        "\n",
        "\n",
        "def train_on_session(states, actions, rewards, gamma=0.99, entropy_coef=1e-2):\n",
        "    \"\"\"\n",
        "    Takes a sequence of states, actions and rewards produced by generate_session.\n",
        "    Updates agent's weights by following the policy gradient above.\n",
        "    Please use Adam optimizer with default parameters.\n",
        "    \"\"\"\n",
        "    # cast everything into torch tensors\n",
        "    states = torch.tensor(states, dtype=torch.float32)\n",
        "    actions = torch.tensor(actions, dtype=torch.int64)\n",
        "    cumulative_returns = np.array(get_cumulative_rewards(rewards, gamma))\n",
        "    #Rewards must be normalised\n",
        "    cumulative_returns = torch.tensor(cumulative_returns, dtype=torch.float32)\n",
        "    cumulative_returns = (cumulative_returns - cumulative_returns.mean()) / (cumulative_returns.std() + 1e-8)\n",
        "\n",
        "    # predict logits, probas and log-probas using an agent.\n",
        "    logits = model(states)\n",
        "    probs = nn.functional.softmax(logits, -1)\n",
        "    log_probs = nn.functional.log_softmax(logits, -1)\n",
        "\n",
        "    assert all(isinstance(v, torch.Tensor) for v in [logits, probs, log_probs]), \\\n",
        "        \"please use compute using torch tensors and don't use predict_probs function\"\n",
        "\n",
        "    # select log-probabilities for chosen actions, log pi(a_i|s_i)\n",
        "    log_probs_for_actions = torch.sum(\n",
        "        log_probs * F.one_hot(actions, env.action_space.n), dim=1)\n",
        "\n",
        "    # Compute loss here. Don't forgen entropy regularization with `entropy_coef`\n",
        "    #print(log_probs_for_actions.shape)\n",
        "    #print(cumulative_returns.shape)\n",
        "    #print(actions.shape)\n",
        "    #print(probs)\n",
        "    entropy = -torch.sum(probs*log_probs, dim=-1).mean()\n",
        "    PG_loss = -(log_probs_for_actions*cumulative_returns).mean() #<YOUR CODE>\n",
        "    loss = PG_loss - entropy_coef*entropy #<YOUR CODE>\n",
        "    # Gradient descent step\n",
        "    optimizer.zero_grad()\n",
        "    loss.backward()\n",
        "    optimizer.step()\n",
        "\n",
        "    # technical: return session rewards to print them later\n",
        "    return np.sum(rewards)"
      ]
    },
    {
      "cell_type": "markdown",
      "metadata": {
        "id": "-7viosw1uS7k"
      },
      "source": [
        "### The actual training"
      ]
    },
    {
      "cell_type": "code",
      "execution_count": null,
      "metadata": {
        "colab": {
          "base_uri": "https://localhost:8080/"
        },
        "id": "pZM_AEG5uS7k",
        "outputId": "1fe3b806-3368-44f2-ecf3-10f42ccf6270"
      },
      "outputs": [
        {
          "output_type": "stream",
          "name": "stdout",
          "text": [
            "mean reward: 10.040\n",
            "mean reward: 10.330\n",
            "mean reward: 10.200\n",
            "mean reward: 12.220\n",
            "mean reward: 12.040\n",
            "mean reward: 12.290\n",
            "mean reward: 16.930\n",
            "mean reward: 22.030\n",
            "mean reward: 23.840\n",
            "mean reward: 15.590\n",
            "mean reward: 14.880\n",
            "mean reward: 14.060\n",
            "mean reward: 17.540\n",
            "mean reward: 36.740\n",
            "mean reward: 52.760\n",
            "mean reward: 25.250\n",
            "mean reward: 40.750\n",
            "mean reward: 33.020\n",
            "mean reward: 80.190\n",
            "mean reward: 102.420\n",
            "mean reward: 67.880\n",
            "mean reward: 148.310\n",
            "mean reward: 199.950\n",
            "mean reward: 322.810\n",
            "mean reward: 416.850\n",
            "mean reward: 194.310\n",
            "mean reward: 129.110\n",
            "mean reward: 350.940\n",
            "mean reward: 540.460\n",
            "You Win!\n"
          ]
        }
      ],
      "source": [
        "for i in range(100):\n",
        "    rewards = [train_on_session(*generate_session(env)) for _ in range(100)]  # generate new sessions\n",
        "\n",
        "    print(\"mean reward: %.3f\" % (np.mean(rewards)))\n",
        "\n",
        "    if np.mean(rewards) > 500:\n",
        "        print(\"You Win!\")  # but you can train even further\n",
        "        break"
      ]
    },
    {
      "cell_type": "markdown",
      "metadata": {
        "id": "jr-alO0uuS7k"
      },
      "source": [
        "### Results & video"
      ]
    },
    {
      "cell_type": "code",
      "execution_count": null,
      "metadata": {
        "id": "NL3Em4XluS7k"
      },
      "outputs": [],
      "source": [
        "# Record sessions\n",
        "\n",
        "from gymnasium.wrappers import RecordVideo\n",
        "\n",
        "with gym.make(\"CartPole-v1\", render_mode=\"rgb_array\") as env, RecordVideo(\n",
        "    env=env, video_folder=\"./videos\"\n",
        ") as env_monitor:\n",
        "    sessions = [generate_session(env_monitor) for _ in range(10)]\n"
      ]
    },
    {
      "cell_type": "code",
      "execution_count": null,
      "metadata": {
        "colab": {
          "base_uri": "https://localhost:8080/",
          "height": 521
        },
        "id": "2k1tYPrRuS7l",
        "outputId": "0d27718f-dc93-4435-ac0f-d958a1792eeb"
      },
      "outputs": [
        {
          "output_type": "execute_result",
          "data": {
            "text/plain": [
              "<IPython.core.display.HTML object>"
            ],
            "text/html": [
              "\n",
              "<video width=\"640\" height=\"480\" controls>\n",
              "  <source src=\"data:video/mp4;base64,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\" type=\"video/mp4\">\n",
              "</video>\n"
            ]
          },
          "metadata": {},
          "execution_count": 156
        }
      ],
      "source": [
        "# Show video. This may not work in some setups. If it doesn't\n",
        "# work for you, you can download the videos and view them locally.\n",
        "\n",
        "from pathlib import Path\n",
        "from base64 import b64encode\n",
        "from IPython.display import HTML\n",
        "\n",
        "video_paths = sorted([s for s in Path('videos').iterdir() if s.suffix == '.mp4'])\n",
        "video_path = video_paths[-1]  # You can also try other indices\n",
        "\n",
        "if 'google.colab' in sys.modules:\n",
        "    # https://stackoverflow.com/a/57378660/1214547\n",
        "    with video_path.open('rb') as fp:\n",
        "        mp4 = fp.read()\n",
        "    data_url = 'data:video/mp4;base64,' + b64encode(mp4).decode()\n",
        "else:\n",
        "    data_url = str(video_path)\n",
        "\n",
        "HTML(\"\"\"\n",
        "<video width=\"640\" height=\"480\" controls>\n",
        "  <source src=\"{}\" type=\"video/mp4\">\n",
        "</video>\n",
        "\"\"\".format(data_url))"
      ]
    }
  ],
  "metadata": {
    "colab": {
      "provenance": []
    },
    "kernelspec": {
      "display_name": "Python 3 (ipykernel)",
      "language": "python",
      "name": "python3"
    },
    "language_info": {
      "codemirror_mode": {
        "name": "ipython",
        "version": 3
      },
      "file_extension": ".py",
      "mimetype": "text/x-python",
      "name": "python",
      "nbconvert_exporter": "python",
      "pygments_lexer": "ipython3",
      "version": "3.9.16"
    }
  },
  "nbformat": 4,
  "nbformat_minor": 0
}